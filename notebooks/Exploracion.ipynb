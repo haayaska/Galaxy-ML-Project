{
 "cells": [
  {
   "cell_type": "code",
   "execution_count": 11,
   "id": "dc6c624b-d3de-4b08-8fe5-73bfa0299cff",
   "metadata": {},
   "outputs": [
    {
     "name": "stdout",
     "output_type": "stream",
     "text": [
      "todo bien\n"
     ]
    }
   ],
   "source": [
    "from astroquery.sdss import SDSS\n",
    "from astropy import coordinates as coords\n",
    "import pandas as pd\n",
    "from astropy import units as u\n",
    "\n",
    "\n",
    "coordenada   = coords.SkyCoord('10h00m00s +02d12m00s', frame='icrs')\n",
    "\n",
    "resultado  = SDSS.query_region(coordenada,spectro= True, radius=3 * u.arcmin) \n",
    "\n",
    "df = resultado.to_pandas()\n",
    "df.to_csv(\"../data/sdss_galaxies.csv\", index= False)\n",
    "print(\"todo bien\")"
   ]
  },
  {
   "cell_type": "code",
   "execution_count": 12,
   "id": "1ba8b290",
   "metadata": {},
   "outputs": [
    {
     "data": {
      "text/html": [
       "<div>\n",
       "<style scoped>\n",
       "    .dataframe tbody tr th:only-of-type {\n",
       "        vertical-align: middle;\n",
       "    }\n",
       "\n",
       "    .dataframe tbody tr th {\n",
       "        vertical-align: top;\n",
       "    }\n",
       "\n",
       "    .dataframe thead th {\n",
       "        text-align: right;\n",
       "    }\n",
       "</style>\n",
       "<table border=\"1\" class=\"dataframe\">\n",
       "  <thead>\n",
       "    <tr style=\"text-align: right;\">\n",
       "      <th></th>\n",
       "      <th>ra</th>\n",
       "      <th>dec</th>\n",
       "      <th>objid</th>\n",
       "      <th>run</th>\n",
       "      <th>rerun</th>\n",
       "      <th>camcol</th>\n",
       "      <th>field</th>\n",
       "      <th>z</th>\n",
       "      <th>plate</th>\n",
       "      <th>mjd</th>\n",
       "      <th>fiberID</th>\n",
       "      <th>specobjid</th>\n",
       "      <th>run2d</th>\n",
       "    </tr>\n",
       "  </thead>\n",
       "  <tbody>\n",
       "    <tr>\n",
       "      <th>0</th>\n",
       "      <td>149.962688</td>\n",
       "      <td>2.210234</td>\n",
       "      <td>1237651753997173418</td>\n",
       "      <td>1462</td>\n",
       "      <td>301</td>\n",
       "      <td>4</td>\n",
       "      <td>164</td>\n",
       "      <td>0.424818</td>\n",
       "      <td>4737</td>\n",
       "      <td>55630</td>\n",
       "      <td>239</td>\n",
       "      <td>5333453648990328832</td>\n",
       "      <td>v5_13_2</td>\n",
       "    </tr>\n",
       "  </tbody>\n",
       "</table>\n",
       "</div>"
      ],
      "text/plain": [
       "           ra       dec                objid   run  rerun  camcol  field  \\\n",
       "0  149.962688  2.210234  1237651753997173418  1462    301       4    164   \n",
       "\n",
       "          z  plate    mjd  fiberID            specobjid    run2d  \n",
       "0  0.424818   4737  55630      239  5333453648990328832  v5_13_2  "
      ]
     },
     "execution_count": 12,
     "metadata": {},
     "output_type": "execute_result"
    }
   ],
   "source": [
    "df.head() # Visualizar las primeras filas del DataFrame, para verificar si se cargo correctamente"
   ]
  },
  {
   "cell_type": "code",
   "execution_count": 13,
   "id": "41b32ad7-0062-4369-ba65-646a39d8e4ea",
   "metadata": {},
   "outputs": [
    {
     "name": "stdout",
     "output_type": "stream",
     "text": [
      "{'star_O': 0, 'star_OB': 1, 'star_B': 2, 'star_A': [3, 4], 'star_FA': 5, 'star_F': [6, 7], 'star_G': [8, 9], 'star_K': 10, 'star_M1': 11, 'star_M3': 12, 'star_M5': 13, 'star_M8': 14, 'star_L1': 15, 'star_wd': [16, 20, 21], 'star_carbon': [17, 18, 19], 'star_Ksubdwarf': 22, 'galaxy_early': 23, 'galaxy': [24, 25, 26], 'galaxy_late': 27, 'galaxy_lrg': 28, 'qso': 29, 'qso_bal': [30, 31], 'qso_bright': 32}\n"
     ]
    }
   ],
   "source": [
    "print(SDSS.AVAILABLE_TEMPLATES)"
   ]
  },
  {
   "cell_type": "code",
   "execution_count": null,
   "id": "0e96e313-d808-4630-a856-daee5f511f28",
   "metadata": {},
   "outputs": [],
   "source": []
  },
  {
   "cell_type": "code",
   "execution_count": null,
   "id": "124978c0-0bf3-46f7-a7dd-53bbacbf6f66",
   "metadata": {},
   "outputs": [],
   "source": []
  }
 ],
 "metadata": {
  "kernelspec": {
   "display_name": "Python 3 (ipykernel)",
   "language": "python",
   "name": "python3"
  },
  "language_info": {
   "codemirror_mode": {
    "name": "ipython",
    "version": 3
   },
   "file_extension": ".py",
   "mimetype": "text/x-python",
   "name": "python",
   "nbconvert_exporter": "python",
   "pygments_lexer": "ipython3",
   "version": "3.10.12"
  }
 },
 "nbformat": 4,
 "nbformat_minor": 5
}
